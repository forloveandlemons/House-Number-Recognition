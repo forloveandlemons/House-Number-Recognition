{
 "cells": [
  {
   "cell_type": "code",
   "execution_count": 2,
   "metadata": {},
   "outputs": [],
   "source": [
    "import scipy.io\n",
    "train_data = scipy.io.loadmat('train_32x32.mat', variable_names='X').get('X')\n",
    "# train_labels = scipy.io.loadmat('train_32x32.mat', variable_names='y').get('y')\n",
    "# test_data = scipy.io.loadmat('test_32x32.mat', variable_names='X').get('X')\n",
    "# test_labels = scipy.io.loadmat('test_32x32.mat', variable_names='y').get('y')\n",
    "# extra_data = scipy.io.loadmat('extra_32x32.mat', variable_names='X').get('X')\n",
    "# extra_labels = scipy.io.loadmat('extra_32x32.mat', variable_names='y').get('y')\n",
    "\n",
    "# print(train_data.shape, train_labels.shape)\n",
    "# print(test_data.shape, test_labels.shape)\n",
    "# print(extra_data.shape, extra_labels.shape)"
   ]
  },
  {
   "cell_type": "code",
   "execution_count": 3,
   "metadata": {},
   "outputs": [
    {
     "data": {
      "text/plain": [
       "(32, 32, 3, 73257)"
      ]
     },
     "execution_count": 3,
     "metadata": {},
     "output_type": "execute_result"
    }
   ],
   "source": [
    "train_data.shape"
   ]
  },
  {
   "cell_type": "code",
   "execution_count": 4,
   "metadata": {},
   "outputs": [
    {
     "data": {
      "text/plain": [
       "array([[ 33,  84,  19, ...,  92, 190, 216],\n",
       "       [ 30,  76,  54, ...,  78, 188, 217],\n",
       "       [ 38,  59, 110, ..., 101, 191, 212]], dtype=uint8)"
      ]
     },
     "execution_count": 4,
     "metadata": {},
     "output_type": "execute_result"
    }
   ],
   "source": [
    "train_data[0, 0]"
   ]
  },
  {
   "cell_type": "code",
   "execution_count": null,
   "metadata": {},
   "outputs": [],
   "source": []
  }
 ],
 "metadata": {
  "kernelspec": {
   "display_name": "Python [conda env:cv_proj] *",
   "language": "python",
   "name": "conda-env-cv_proj-py"
  },
  "language_info": {
   "codemirror_mode": {
    "name": "ipython",
    "version": 3
   },
   "file_extension": ".py",
   "mimetype": "text/x-python",
   "name": "python",
   "nbconvert_exporter": "python",
   "pygments_lexer": "ipython3",
   "version": "3.6.7"
  }
 },
 "nbformat": 4,
 "nbformat_minor": 2
}
